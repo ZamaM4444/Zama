{
 "cells": [
  {
   "cell_type": "code",
   "execution_count": 18,
   "id": "16e09bf4",
   "metadata": {},
   "outputs": [
    {
     "name": "stderr",
     "output_type": "stream",
     "text": [
      "[nltk_data] Downloading package punkt to\n",
      "[nltk_data]     C:\\Users\\User\\AppData\\Roaming\\nltk_data...\n",
      "[nltk_data]   Package punkt is already up-to-date!\n",
      "[nltk_data] Downloading package stopwords to\n",
      "[nltk_data]     C:\\Users\\User\\AppData\\Roaming\\nltk_data...\n",
      "[nltk_data]   Package stopwords is already up-to-date!\n",
      "[nltk_data] Downloading package wordnet to\n",
      "[nltk_data]     C:\\Users\\User\\AppData\\Roaming\\nltk_data...\n",
      "[nltk_data]   Package wordnet is already up-to-date!\n"
     ]
    }
   ],
   "source": [
    "# Import packages\n",
    "\n",
    "# Database manipulation\n",
    "import pandas as pd\n",
    "import numpy as np\n",
    "\n",
    "# Visualization\n",
    "import matplotlib.pyplot as plt\n",
    "import seaborn as sns\n",
    "%matplotlib inline\n",
    "#from wordcloud import WordCloud\n",
    "\n",
    "# Natural language Toolkit packages.\n",
    "# Necessary libraries and modules that are \n",
    "# going to help us do the data processing \n",
    "# from the nltk library.\n",
    "import nltk\n",
    "\n",
    "nltk.download(['punkt','stopwords'])\n",
    "from nltk.corpus import stopwords\n",
    "from nltk.stem import PorterStemmer\n",
    "from nltk.stem import WordNetLemmatizer\n",
    "nltk.download('wordnet')\n",
    "import string\n",
    "\n",
    "# Regular expression\n",
    "import re\n",
    "\n",
    "# to make bag of words\n",
    "from sklearn.feature_extraction.text import CountVectorizer\n",
    "from sklearn.feature_extraction.text import TfidfVectorizer\n",
    "\n",
    "# Packages to create models\n",
    "from sklearn.pipeline import Pipeline\n",
    "from sklearn.naive_bayes import MultinomialNB\n",
    "from sklearn.linear_model import LogisticRegression\n",
    "\n",
    "\n",
    "from sklearn.svm import LinearSVC  \n",
    "from sklearn.model_selection import GridSearchCV\n",
    "\n",
    "from sklearn.tree import DecisionTreeRegressor\n",
    "from sklearn.ensemble import RandomForestClassifier\n",
    "from sklearn.neighbors import KNeighborsClassifier\n",
    "\n",
    "from sklearn.preprocessing import StandardScaler\n",
    "\n",
    "from sklearn.model_selection import train_test_split\n",
    "from sklearn.utils import resample\n",
    "# Model evaluation\n",
    "from sklearn import metrics\n",
    "from sklearn.metrics import classification_report, confusion_matrix, f1_score, precision_score, recall_score\n",
    "\n",
    "# Save trained models\n",
    "import pickle\n",
    "\n",
    "\n",
    "import warnings\n",
    "warnings.filterwarnings('ignore')"
   ]
  },
  {
   "cell_type": "code",
   "execution_count": 19,
   "id": "87e36520",
   "metadata": {},
   "outputs": [],
   "source": [
    "# Import dataset\n",
    "\n",
    "Tr = pd.read_csv(\"train_set.csv\")\n",
    "Te = pd.read_csv(\"test_set.csv\")\n",
    "pd.set_option('display.max_colwidth',None)\n",
    "pd.set_option('display.max_rows', None)"
   ]
  },
  {
   "cell_type": "code",
   "execution_count": 20,
   "id": "46450beb",
   "metadata": {},
   "outputs": [
    {
     "data": {
      "text/html": [
       "<div>\n",
       "<style scoped>\n",
       "    .dataframe tbody tr th:only-of-type {\n",
       "        vertical-align: middle;\n",
       "    }\n",
       "\n",
       "    .dataframe tbody tr th {\n",
       "        vertical-align: top;\n",
       "    }\n",
       "\n",
       "    .dataframe thead th {\n",
       "        text-align: right;\n",
       "    }\n",
       "</style>\n",
       "<table border=\"1\" class=\"dataframe\">\n",
       "  <thead>\n",
       "    <tr style=\"text-align: right;\">\n",
       "      <th></th>\n",
       "      <th>lang_id</th>\n",
       "      <th>text</th>\n",
       "    </tr>\n",
       "  </thead>\n",
       "  <tbody>\n",
       "    <tr>\n",
       "      <th>0</th>\n",
       "      <td>xho</td>\n",
       "      <td>umgaqo-siseko wenza amalungiselelo kumaziko axhasa ulawulo lwesininzi kunye nokuthath inxaxheba kwabafazi ezi ziquka phakathi kwezinye zazo ikomishoni yokulingana ngokwesini ikomishoni yamalungelo oluntu lomzantsi afrika</td>\n",
       "    </tr>\n",
       "    <tr>\n",
       "      <th>1</th>\n",
       "      <td>xho</td>\n",
       "      <td>i-dha iya kuba nobulumko bokubeka umsebenzi naphi na kwisebe ngokusekwe kwiimfuno zokusebenza zalo emva kokubonana nomsebenzi kunye okanye imanyano yakhe ukuba ulandulo lomntu onjalo alufanelekanga i-dha mayibize uncedo olufanelekileyo elungelweni layo</td>\n",
       "    </tr>\n",
       "    <tr>\n",
       "      <th>2</th>\n",
       "      <td>eng</td>\n",
       "      <td>the province of kwazulu-natal department of transport invites tenders from established contractors experienced in bridge construction for the construction of the kwajolwayo tugela river pedestrian bridge near tugela ferry the duration of the project will be months</td>\n",
       "    </tr>\n",
       "    <tr>\n",
       "      <th>3</th>\n",
       "      <td>nso</td>\n",
       "      <td>o netefatša gore o ba file dilo ka moka tše le dumelelanego ka tšona mohlala maleri a magolo a a šomišwago go fihlelela meagong e metelele scaffolds a a bolokegilego lefelo la maleba la go šomela go phela gabotse bjbj</td>\n",
       "    </tr>\n",
       "    <tr>\n",
       "      <th>4</th>\n",
       "      <td>ven</td>\n",
       "      <td>khomishini ya ndinganyiso ya mbeu yo ewa maana u ya nga mulayo wa khomishini ya ndinganyiso ya mbeu u thetshelesa mbilaelo dzine dza tshimbilelana na tshialula u ya nga mbeu nahone i ivhea sa foramu ya thungo u ya nga mulayo wa ndinganyiso</td>\n",
       "    </tr>\n",
       "  </tbody>\n",
       "</table>\n",
       "</div>"
      ],
      "text/plain": [
       "  lang_id  \\\n",
       "0     xho   \n",
       "1     xho   \n",
       "2     eng   \n",
       "3     nso   \n",
       "4     ven   \n",
       "\n",
       "                                                                                                                                                                                                                                                                       text  \n",
       "0                                              umgaqo-siseko wenza amalungiselelo kumaziko axhasa ulawulo lwesininzi kunye nokuthath inxaxheba kwabafazi ezi ziquka phakathi kwezinye zazo ikomishoni yokulingana ngokwesini ikomishoni yamalungelo oluntu lomzantsi afrika  \n",
       "1              i-dha iya kuba nobulumko bokubeka umsebenzi naphi na kwisebe ngokusekwe kwiimfuno zokusebenza zalo emva kokubonana nomsebenzi kunye okanye imanyano yakhe ukuba ulandulo lomntu onjalo alufanelekanga i-dha mayibize uncedo olufanelekileyo elungelweni layo  \n",
       "2  the province of kwazulu-natal department of transport invites tenders from established contractors experienced in bridge construction for the construction of the kwajolwayo tugela river pedestrian bridge near tugela ferry the duration of the project will be months  \n",
       "3                                                 o netefatša gore o ba file dilo ka moka tše le dumelelanego ka tšona mohlala maleri a magolo a a šomišwago go fihlelela meagong e metelele scaffolds a a bolokegilego lefelo la maleba la go šomela go phela gabotse bjbj  \n",
       "4                           khomishini ya ndinganyiso ya mbeu yo ewa maana u ya nga mulayo wa khomishini ya ndinganyiso ya mbeu u thetshelesa mbilaelo dzine dza tshimbilelana na tshialula u ya nga mbeu nahone i ivhea sa foramu ya thungo u ya nga mulayo wa ndinganyiso  "
      ]
     },
     "execution_count": 20,
     "metadata": {},
     "output_type": "execute_result"
    }
   ],
   "source": [
    "Tr.head()"
   ]
  },
  {
   "cell_type": "code",
   "execution_count": 23,
   "id": "c3de90f1",
   "metadata": {},
   "outputs": [
    {
     "data": {
      "text/plain": [
       "eng    3000\n",
       "ssw    3000\n",
       "nbl    3000\n",
       "afr    3000\n",
       "tsn    3000\n",
       "tso    3000\n",
       "xho    3000\n",
       "zul    3000\n",
       "sot    3000\n",
       "ven    3000\n",
       "nso    3000\n",
       "Name: lang_id, dtype: int64"
      ]
     },
     "execution_count": 23,
     "metadata": {},
     "output_type": "execute_result"
    }
   ],
   "source": [
    "Tr[\"lang_id\"].value_counts()"
   ]
  },
  {
   "cell_type": "code",
   "execution_count": 24,
   "id": "a2a059f5",
   "metadata": {},
   "outputs": [
    {
     "name": "stdout",
     "output_type": "stream",
     "text": [
      "<class 'pandas.core.frame.DataFrame'>\n",
      "RangeIndex: 33000 entries, 0 to 32999\n",
      "Data columns (total 2 columns):\n",
      " #   Column   Non-Null Count  Dtype \n",
      "---  ------   --------------  ----- \n",
      " 0   lang_id  33000 non-null  object\n",
      " 1   text     33000 non-null  object\n",
      "dtypes: object(2)\n",
      "memory usage: 515.8+ KB\n"
     ]
    }
   ],
   "source": [
    "Tr.info()"
   ]
  },
  {
   "cell_type": "code",
   "execution_count": 25,
   "id": "5b1ac579",
   "metadata": {},
   "outputs": [],
   "source": [
    "def clean_text(text):\n",
    "    text = re.sub(r'[-!@#$(),n\"%^*?:;~`0-9]', ' ', text)\n",
    "    text = re.sub(r'[[]]', ' ', text)\n",
    "    text = text.lower()\n",
    "    return text\n",
    "Tr['cleaned_text'] = Tr['text'].apply(clean_text)\n",
    "Te['cleaned_text'] = Te['text'].apply(clean_text)"
   ]
  },
  {
   "cell_type": "code",
   "execution_count": 26,
   "id": "01f04fa6",
   "metadata": {},
   "outputs": [
    {
     "data": {
      "text/html": [
       "<div>\n",
       "<style scoped>\n",
       "    .dataframe tbody tr th:only-of-type {\n",
       "        vertical-align: middle;\n",
       "    }\n",
       "\n",
       "    .dataframe tbody tr th {\n",
       "        vertical-align: top;\n",
       "    }\n",
       "\n",
       "    .dataframe thead th {\n",
       "        text-align: right;\n",
       "    }\n",
       "</style>\n",
       "<table border=\"1\" class=\"dataframe\">\n",
       "  <thead>\n",
       "    <tr style=\"text-align: right;\">\n",
       "      <th></th>\n",
       "      <th>lang_id</th>\n",
       "      <th>text</th>\n",
       "      <th>cleaned_text</th>\n",
       "    </tr>\n",
       "  </thead>\n",
       "  <tbody>\n",
       "    <tr>\n",
       "      <th>0</th>\n",
       "      <td>xho</td>\n",
       "      <td>umgaqo-siseko wenza amalungiselelo kumaziko axhasa ulawulo lwesininzi kunye nokuthath inxaxheba kwabafazi ezi ziquka phakathi kwezinye zazo ikomishoni yokulingana ngokwesini ikomishoni yamalungelo oluntu lomzantsi afrika</td>\n",
       "      <td>umgaqo siseko we za amalu giselelo kumaziko axhasa ulawulo lwesi i zi ku ye  okuthath i xaxheba kwabafazi ezi ziquka phakathi kwezi ye zazo ikomisho i yokuli ga a  gokwesi i ikomisho i yamalu gelo olu tu lomza tsi afrika</td>\n",
       "    </tr>\n",
       "    <tr>\n",
       "      <th>1</th>\n",
       "      <td>xho</td>\n",
       "      <td>i-dha iya kuba nobulumko bokubeka umsebenzi naphi na kwisebe ngokusekwe kwiimfuno zokusebenza zalo emva kokubonana nomsebenzi kunye okanye imanyano yakhe ukuba ulandulo lomntu onjalo alufanelekanga i-dha mayibize uncedo olufanelekileyo elungelweni layo</td>\n",
       "      <td>i dha iya kuba  obulumko bokubeka umsebe zi  aphi  a kwisebe  gokusekwe kwiimfu o zokusebe za zalo emva kokubo a a  omsebe zi ku ye oka ye ima ya o yakhe ukuba ula dulo lom tu o jalo alufa eleka ga i dha mayibize u cedo olufa elekileyo elu gelwe i layo</td>\n",
       "    </tr>\n",
       "    <tr>\n",
       "      <th>2</th>\n",
       "      <td>eng</td>\n",
       "      <td>the province of kwazulu-natal department of transport invites tenders from established contractors experienced in bridge construction for the construction of the kwajolwayo tugela river pedestrian bridge near tugela ferry the duration of the project will be months</td>\n",
       "      <td>the provi ce of kwazulu  atal departme t of tra sport i vites te ders from established co tractors experie ced i  bridge co structio  for the co structio  of the kwajolwayo tugela river pedestria  bridge  ear tugela ferry the duratio  of the project will be mo ths</td>\n",
       "    </tr>\n",
       "    <tr>\n",
       "      <th>3</th>\n",
       "      <td>nso</td>\n",
       "      <td>o netefatša gore o ba file dilo ka moka tše le dumelelanego ka tšona mohlala maleri a magolo a a šomišwago go fihlelela meagong e metelele scaffolds a a bolokegilego lefelo la maleba la go šomela go phela gabotse bjbj</td>\n",
       "      <td>o  etefatša gore o ba file dilo ka moka tše le dumelela ego ka tšo a mohlala maleri a magolo a a šomišwago go fihlelela meago g e metelele scaffolds a a bolokegilego lefelo la maleba la go šomela go phela gabotse bjbj</td>\n",
       "    </tr>\n",
       "    <tr>\n",
       "      <th>4</th>\n",
       "      <td>ven</td>\n",
       "      <td>khomishini ya ndinganyiso ya mbeu yo ewa maana u ya nga mulayo wa khomishini ya ndinganyiso ya mbeu u thetshelesa mbilaelo dzine dza tshimbilelana na tshialula u ya nga mbeu nahone i ivhea sa foramu ya thungo u ya nga mulayo wa ndinganyiso</td>\n",
       "      <td>khomishi i ya  di ga yiso ya mbeu yo ewa maa a u ya  ga mulayo wa khomishi i ya  di ga yiso ya mbeu u thetshelesa mbilaelo dzi e dza tshimbilela a  a tshialula u ya  ga mbeu  aho e i ivhea sa foramu ya thu go u ya  ga mulayo wa  di ga yiso</td>\n",
       "    </tr>\n",
       "  </tbody>\n",
       "</table>\n",
       "</div>"
      ],
      "text/plain": [
       "  lang_id  \\\n",
       "0     xho   \n",
       "1     xho   \n",
       "2     eng   \n",
       "3     nso   \n",
       "4     ven   \n",
       "\n",
       "                                                                                                                                                                                                                                                                       text  \\\n",
       "0                                              umgaqo-siseko wenza amalungiselelo kumaziko axhasa ulawulo lwesininzi kunye nokuthath inxaxheba kwabafazi ezi ziquka phakathi kwezinye zazo ikomishoni yokulingana ngokwesini ikomishoni yamalungelo oluntu lomzantsi afrika   \n",
       "1              i-dha iya kuba nobulumko bokubeka umsebenzi naphi na kwisebe ngokusekwe kwiimfuno zokusebenza zalo emva kokubonana nomsebenzi kunye okanye imanyano yakhe ukuba ulandulo lomntu onjalo alufanelekanga i-dha mayibize uncedo olufanelekileyo elungelweni layo   \n",
       "2  the province of kwazulu-natal department of transport invites tenders from established contractors experienced in bridge construction for the construction of the kwajolwayo tugela river pedestrian bridge near tugela ferry the duration of the project will be months   \n",
       "3                                                 o netefatša gore o ba file dilo ka moka tše le dumelelanego ka tšona mohlala maleri a magolo a a šomišwago go fihlelela meagong e metelele scaffolds a a bolokegilego lefelo la maleba la go šomela go phela gabotse bjbj   \n",
       "4                           khomishini ya ndinganyiso ya mbeu yo ewa maana u ya nga mulayo wa khomishini ya ndinganyiso ya mbeu u thetshelesa mbilaelo dzine dza tshimbilelana na tshialula u ya nga mbeu nahone i ivhea sa foramu ya thungo u ya nga mulayo wa ndinganyiso   \n",
       "\n",
       "                                                                                                                                                                                                                                                               cleaned_text  \n",
       "0                                              umgaqo siseko we za amalu giselelo kumaziko axhasa ulawulo lwesi i zi ku ye  okuthath i xaxheba kwabafazi ezi ziquka phakathi kwezi ye zazo ikomisho i yokuli ga a  gokwesi i ikomisho i yamalu gelo olu tu lomza tsi afrika  \n",
       "1              i dha iya kuba  obulumko bokubeka umsebe zi  aphi  a kwisebe  gokusekwe kwiimfu o zokusebe za zalo emva kokubo a a  omsebe zi ku ye oka ye ima ya o yakhe ukuba ula dulo lom tu o jalo alufa eleka ga i dha mayibize u cedo olufa elekileyo elu gelwe i layo  \n",
       "2  the provi ce of kwazulu  atal departme t of tra sport i vites te ders from established co tractors experie ced i  bridge co structio  for the co structio  of the kwajolwayo tugela river pedestria  bridge  ear tugela ferry the duratio  of the project will be mo ths  \n",
       "3                                                 o  etefatša gore o ba file dilo ka moka tše le dumelela ego ka tšo a mohlala maleri a magolo a a šomišwago go fihlelela meago g e metelele scaffolds a a bolokegilego lefelo la maleba la go šomela go phela gabotse bjbj  \n",
       "4                           khomishi i ya  di ga yiso ya mbeu yo ewa maa a u ya  ga mulayo wa khomishi i ya  di ga yiso ya mbeu u thetshelesa mbilaelo dzi e dza tshimbilela a  a tshialula u ya  ga mbeu  aho e i ivhea sa foramu ya thu go u ya  ga mulayo wa  di ga yiso  "
      ]
     },
     "execution_count": 26,
     "metadata": {},
     "output_type": "execute_result"
    }
   ],
   "source": [
    "Tr.head()"
   ]
  },
  {
   "cell_type": "code",
   "execution_count": 27,
   "id": "26484d46",
   "metadata": {
    "scrolled": true
   },
   "outputs": [
    {
     "data": {
      "text/html": [
       "<div>\n",
       "<style scoped>\n",
       "    .dataframe tbody tr th:only-of-type {\n",
       "        vertical-align: middle;\n",
       "    }\n",
       "\n",
       "    .dataframe tbody tr th {\n",
       "        vertical-align: top;\n",
       "    }\n",
       "\n",
       "    .dataframe thead th {\n",
       "        text-align: right;\n",
       "    }\n",
       "</style>\n",
       "<table border=\"1\" class=\"dataframe\">\n",
       "  <thead>\n",
       "    <tr style=\"text-align: right;\">\n",
       "      <th></th>\n",
       "      <th>index</th>\n",
       "      <th>text</th>\n",
       "      <th>cleaned_text</th>\n",
       "    </tr>\n",
       "  </thead>\n",
       "  <tbody>\n",
       "    <tr>\n",
       "      <th>0</th>\n",
       "      <td>1</td>\n",
       "      <td>Mmasepala, fa maemo a a kgethegileng a letlelela kgato eo.</td>\n",
       "      <td>mmasepala  fa maemo a a kgethegile g a letlelela kgato eo.</td>\n",
       "    </tr>\n",
       "    <tr>\n",
       "      <th>1</th>\n",
       "      <td>2</td>\n",
       "      <td>Uzakwaziswa ngokufaneleko nakungafuneka eminye imitlolo engezelelako ukuqedelela ukutloliswa kwesibawo sakho.</td>\n",
       "      <td>uzakwaziswa  gokufa eleko  aku gafu eka emi ye imitlolo e gezelelako ukuqedelela ukutloliswa kwesibawo sakho.</td>\n",
       "    </tr>\n",
       "    <tr>\n",
       "      <th>2</th>\n",
       "      <td>3</td>\n",
       "      <td>Tshivhumbeo tshi fana na ngano dza vhathu.</td>\n",
       "      <td>tshivhumbeo tshi fa a  a  ga o dza vhathu.</td>\n",
       "    </tr>\n",
       "    <tr>\n",
       "      <th>3</th>\n",
       "      <td>4</td>\n",
       "      <td>Kube inja nelikati betingevakala kutsi titsini naticocisana.</td>\n",
       "      <td>kube i ja  elikati beti gevakala kutsi titsi i  aticocisa a.</td>\n",
       "    </tr>\n",
       "    <tr>\n",
       "      <th>4</th>\n",
       "      <td>5</td>\n",
       "      <td>Winste op buitelandse valuta.</td>\n",
       "      <td>wi ste op buitela dse valuta.</td>\n",
       "    </tr>\n",
       "  </tbody>\n",
       "</table>\n",
       "</div>"
      ],
      "text/plain": [
       "   index  \\\n",
       "0      1   \n",
       "1      2   \n",
       "2      3   \n",
       "3      4   \n",
       "4      5   \n",
       "\n",
       "                                                                                                            text  \\\n",
       "0                                                     Mmasepala, fa maemo a a kgethegileng a letlelela kgato eo.   \n",
       "1  Uzakwaziswa ngokufaneleko nakungafuneka eminye imitlolo engezelelako ukuqedelela ukutloliswa kwesibawo sakho.   \n",
       "2                                                                     Tshivhumbeo tshi fana na ngano dza vhathu.   \n",
       "3                                                   Kube inja nelikati betingevakala kutsi titsini naticocisana.   \n",
       "4                                                                                  Winste op buitelandse valuta.   \n",
       "\n",
       "                                                                                                    cleaned_text  \n",
       "0                                                     mmasepala  fa maemo a a kgethegile g a letlelela kgato eo.  \n",
       "1  uzakwaziswa  gokufa eleko  aku gafu eka emi ye imitlolo e gezelelako ukuqedelela ukutloliswa kwesibawo sakho.  \n",
       "2                                                                     tshivhumbeo tshi fa a  a  ga o dza vhathu.  \n",
       "3                                                   kube i ja  elikati beti gevakala kutsi titsi i  aticocisa a.  \n",
       "4                                                                                  wi ste op buitela dse valuta.  "
      ]
     },
     "execution_count": 27,
     "metadata": {},
     "output_type": "execute_result"
    }
   ],
   "source": [
    "Te.head()"
   ]
  },
  {
   "cell_type": "code",
   "execution_count": 28,
   "id": "89e490db",
   "metadata": {},
   "outputs": [],
   "source": [
    "X = Tr[\"cleaned_text\"]\n",
    "y = Tr[\"lang_id\"]"
   ]
  },
  {
   "cell_type": "code",
   "execution_count": 29,
   "id": "13cdf508",
   "metadata": {},
   "outputs": [],
   "source": [
    "# Split 1 : Normal data\n",
    "X_train, X_test, y_train, y_test = train_test_split(X, y, test_size=0.2 , random_state = 42)"
   ]
  },
  {
   "cell_type": "code",
   "execution_count": 30,
   "id": "0e1ecdb1",
   "metadata": {},
   "outputs": [],
   "source": [
    "# Declare TfidfVectorizer\n",
    "TDIF_vector_1 = TfidfVectorizer(max_df=0.9, ngram_range=(1, 5), analyzer= 'char',max_features=10000)"
   ]
  },
  {
   "cell_type": "code",
   "execution_count": 31,
   "id": "f1c708e3",
   "metadata": {},
   "outputs": [],
   "source": [
    "LR_model_1 = LogisticRegression()\n",
    "LR_model_1 = Pipeline([('tfidf' ,TDIF_vector_1), ('cfl', LogisticRegression(max_iter=1000))])"
   ]
  },
  {
   "cell_type": "code",
   "execution_count": 32,
   "id": "2e019aea",
   "metadata": {},
   "outputs": [],
   "source": [
    "LR_model_1.fit(X_train, y_train)\n",
    "y_pred = LR_model_1.predict(X_test)"
   ]
  },
  {
   "cell_type": "code",
   "execution_count": 33,
   "id": "279b35fd",
   "metadata": {},
   "outputs": [
    {
     "name": "stdout",
     "output_type": "stream",
     "text": [
      "f1 score: 0.9975773317158672\n"
     ]
    }
   ],
   "source": [
    "f1score_4 = f1_score(y_test, y_pred, average= 'weighted')\n",
    "print('f1 score:', f1score_4)"
   ]
  },
  {
   "cell_type": "code",
   "execution_count": 34,
   "id": "f67c1e03",
   "metadata": {},
   "outputs": [],
   "source": [
    "# Classification Report\n",
    "report = metrics.classification_report(y_test, y_pred)"
   ]
  },
  {
   "cell_type": "code",
   "execution_count": 35,
   "id": "82c2cb78",
   "metadata": {},
   "outputs": [
    {
     "name": "stdout",
     "output_type": "stream",
     "text": [
      "              precision    recall  f1-score   support\n",
      "\n",
      "         afr       1.00      1.00      1.00       583\n",
      "         eng       1.00      1.00      1.00       615\n",
      "         nbl       0.99      0.99      0.99       583\n",
      "         nso       1.00      1.00      1.00       625\n",
      "         sot       1.00      1.00      1.00       618\n",
      "         ssw       1.00      1.00      1.00       584\n",
      "         tsn       0.99      1.00      1.00       598\n",
      "         tso       1.00      1.00      1.00       561\n",
      "         ven       1.00      1.00      1.00       634\n",
      "         xho       1.00      1.00      1.00       609\n",
      "         zul       0.99      0.99      0.99       590\n",
      "\n",
      "    accuracy                           1.00      6600\n",
      "   macro avg       1.00      1.00      1.00      6600\n",
      "weighted avg       1.00      1.00      1.00      6600\n",
      "\n"
     ]
    }
   ],
   "source": [
    "print(report)"
   ]
  },
  {
   "cell_type": "code",
   "execution_count": 36,
   "id": "5d4b00fb",
   "metadata": {},
   "outputs": [],
   "source": [
    "y_test = LR_model_1.predict(Te['cleaned_text'])\n",
    "results = pd.DataFrame({'index' : Te['index'],'lang_id' : y_test})\n",
    "results.to_csv('submission.csv', index = False)"
   ]
  },
  {
   "cell_type": "code",
   "execution_count": null,
   "id": "297009b3",
   "metadata": {},
   "outputs": [],
   "source": [
    "results"
   ]
  },
  {
   "cell_type": "code",
   "execution_count": null,
   "id": "0714258a",
   "metadata": {},
   "outputs": [],
   "source": []
  }
 ],
 "metadata": {
  "kernelspec": {
   "display_name": "Python 3",
   "language": "python",
   "name": "python3"
  },
  "language_info": {
   "codemirror_mode": {
    "name": "ipython",
    "version": 3
   },
   "file_extension": ".py",
   "mimetype": "text/x-python",
   "name": "python",
   "nbconvert_exporter": "python",
   "pygments_lexer": "ipython3",
   "version": "3.8.8"
  }
 },
 "nbformat": 4,
 "nbformat_minor": 5
}
